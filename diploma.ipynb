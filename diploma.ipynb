{
  "nbformat": 4,
  "nbformat_minor": 0,
  "metadata": {
    "colab": {
      "name": "diploma.ipynb",
      "provenance": [],
      "collapsed_sections": [],
      "authorship_tag": "ABX9TyO1o08+QatqSc+dKmhCnKUm",
      "include_colab_link": true
    },
    "kernelspec": {
      "name": "python3",
      "display_name": "Python 3"
    },
    "language_info": {
      "name": "python"
    }
  },
  "cells": [
    {
      "cell_type": "markdown",
      "metadata": {
        "id": "view-in-github",
        "colab_type": "text"
      },
      "source": [
        "<a href=\"https://colab.research.google.com/github/StormStudioAndroid2/diploma_colab/blob/main/diploma.ipynb\" target=\"_parent\"><img src=\"https://colab.research.google.com/assets/colab-badge.svg\" alt=\"Open In Colab\"/></a>"
      ]
    },
    {
      "cell_type": "markdown",
      "metadata": {
        "id": "HQ1zHmtgN0Am"
      },
      "source": [
        "Сначала загрузим файл с партиями с Yandex Disk, обработаем данные и представим в виде матрицы"
      ]
    },
    {
      "cell_type": "code",
      "metadata": {
        "id": "JTeT07aSO9Ow"
      },
      "source": [
        "import requests\n",
        "from urllib.parse import urlencode\n",
        "\n",
        "def load_file(name, url):\n",
        "  base_url = 'https://cloud-api.yandex.net/v1/disk/public/resources/download?'\n",
        "  public_key = url  # Сюда вписываем ссылку на Yandex Disk, c нужным нам файлом\n",
        "\n",
        "  # Получаем загрузочную ссылку\n",
        "  final_url = base_url + urlencode(dict(public_key=public_key))\n",
        "  response = requests.get(final_url)\n",
        "  download_url = response.json()['href']\n",
        "\n",
        "  # Загружаем файл и сохраняем его\n",
        "  download_response = requests.get(download_url)\n",
        "  with open(name, 'wb') as f: \n",
        "    f.write(download_response.content)\n"
      ],
      "execution_count": 1,
      "outputs": []
    },
    {
      "cell_type": "markdown",
      "metadata": {
        "id": "YydffOHJQLwg"
      },
      "source": [
        "Теперь мы должны распарсить полученный нами файл. Для этого будем использовать библиотеку Pandas"
      ]
    },
    {
      "cell_type": "code",
      "metadata": {
        "id": "AM6wht8CQoSE",
        "colab": {
          "base_uri": "https://localhost:8080/",
          "height": 350
        },
        "outputId": "1526b7cd-0081-41d4-ebdb-03d4d02336dc"
      },
      "source": [
        "import pandas as pd\n",
        "\n",
        "def parse_excel(name):\n",
        "  data = pd.read_excel(name, usecols =\"B:J\")\n",
        "\n",
        "  votes = pd.read_excel(name, usecols =\"A\")\n",
        "  votes = votes.values.tolist()\n",
        "\n",
        "  parties = (pd.read_excel(name).columns.tolist()[1:])\n",
        "  return data.values.tolist(), votes, parties\n",
        "\n",
        "matrix, votes, parties = parse_excel('first.xlsx')\n",
        "results = ['за', 'против', 'неучастие']\n"
      ],
      "execution_count": 3,
      "outputs": [
        {
          "output_type": "error",
          "ename": "KeyError",
          "evalue": "ignored",
          "traceback": [
            "\u001b[0;31m---------------------------------------------------------------------------\u001b[0m",
            "\u001b[0;31mKeyError\u001b[0m                                  Traceback (most recent call last)",
            "\u001b[0;32m<ipython-input-3-90dfe9f4510b>\u001b[0m in \u001b[0;36m<module>\u001b[0;34m()\u001b[0m\n\u001b[1;32m     11\u001b[0m \u001b[0;34m\u001b[0m\u001b[0m\n\u001b[1;32m     12\u001b[0m \u001b[0;34m\u001b[0m\u001b[0m\n\u001b[0;32m---> 13\u001b[0;31m \u001b[0mload_file\u001b[0m\u001b[0;34m(\u001b[0m\u001b[0;34m'first.xlsx'\u001b[0m\u001b[0;34m,\u001b[0m \u001b[0;34m'https://disk.yandex.ru/i/uhcytFEl7xHjww'\u001b[0m\u001b[0;34m)\u001b[0m\u001b[0;34m\u001b[0m\u001b[0;34m\u001b[0m\u001b[0m\n\u001b[0m\u001b[1;32m     14\u001b[0m \u001b[0mmatrix\u001b[0m\u001b[0;34m,\u001b[0m \u001b[0mvotes\u001b[0m\u001b[0;34m,\u001b[0m \u001b[0mparties\u001b[0m \u001b[0;34m=\u001b[0m \u001b[0mparse_excel\u001b[0m\u001b[0;34m(\u001b[0m\u001b[0;34m'first.xlsx'\u001b[0m\u001b[0;34m)\u001b[0m\u001b[0;34m\u001b[0m\u001b[0;34m\u001b[0m\u001b[0m\n\u001b[1;32m     15\u001b[0m \u001b[0mresults\u001b[0m \u001b[0;34m=\u001b[0m \u001b[0;34m[\u001b[0m\u001b[0;34m'за'\u001b[0m\u001b[0;34m,\u001b[0m \u001b[0;34m'против'\u001b[0m\u001b[0;34m,\u001b[0m \u001b[0;34m'неучастие'\u001b[0m\u001b[0;34m]\u001b[0m\u001b[0;34m\u001b[0m\u001b[0;34m\u001b[0m\u001b[0m\n",
            "\u001b[0;32m<ipython-input-1-f335dc820a26>\u001b[0m in \u001b[0;36mload_file\u001b[0;34m(name, url)\u001b[0m\n\u001b[1;32m      9\u001b[0m   \u001b[0mfinal_url\u001b[0m \u001b[0;34m=\u001b[0m \u001b[0mbase_url\u001b[0m \u001b[0;34m+\u001b[0m \u001b[0murlencode\u001b[0m\u001b[0;34m(\u001b[0m\u001b[0mdict\u001b[0m\u001b[0;34m(\u001b[0m\u001b[0mpublic_key\u001b[0m\u001b[0;34m=\u001b[0m\u001b[0mpublic_key\u001b[0m\u001b[0;34m)\u001b[0m\u001b[0;34m)\u001b[0m\u001b[0;34m\u001b[0m\u001b[0;34m\u001b[0m\u001b[0m\n\u001b[1;32m     10\u001b[0m   \u001b[0mresponse\u001b[0m \u001b[0;34m=\u001b[0m \u001b[0mrequests\u001b[0m\u001b[0;34m.\u001b[0m\u001b[0mget\u001b[0m\u001b[0;34m(\u001b[0m\u001b[0mfinal_url\u001b[0m\u001b[0;34m)\u001b[0m\u001b[0;34m\u001b[0m\u001b[0;34m\u001b[0m\u001b[0m\n\u001b[0;32m---> 11\u001b[0;31m   \u001b[0mdownload_url\u001b[0m \u001b[0;34m=\u001b[0m \u001b[0mresponse\u001b[0m\u001b[0;34m.\u001b[0m\u001b[0mjson\u001b[0m\u001b[0;34m(\u001b[0m\u001b[0;34m)\u001b[0m\u001b[0;34m[\u001b[0m\u001b[0;34m'href'\u001b[0m\u001b[0;34m]\u001b[0m\u001b[0;34m\u001b[0m\u001b[0;34m\u001b[0m\u001b[0m\n\u001b[0m\u001b[1;32m     12\u001b[0m \u001b[0;34m\u001b[0m\u001b[0m\n\u001b[1;32m     13\u001b[0m   \u001b[0;31m# Загружаем файл и сохраняем его\u001b[0m\u001b[0;34m\u001b[0m\u001b[0;34m\u001b[0m\u001b[0;34m\u001b[0m\u001b[0m\n",
            "\u001b[0;31mKeyError\u001b[0m: 'href'"
          ]
        }
      ]
    },
    {
      "cell_type": "code",
      "metadata": {
        "id": "2ND1ZwI2Cq_C"
      },
      "source": [
        "from google.colab import drive\n",
        "drive.mount('/content/drive')"
      ],
      "execution_count": null,
      "outputs": []
    },
    {
      "cell_type": "markdown",
      "metadata": {
        "id": "yJoVm5G1Sz1J"
      },
      "source": [
        "Для того, чтобы было удобно работать в Python, преобразуем данные во вложенный список в методе parse_excel. Теперь покажем, что у нас вышло:"
      ]
    },
    {
      "cell_type": "code",
      "metadata": {
        "id": "cwUPmjmMS52X"
      },
      "source": [
        "print(matrix)"
      ],
      "execution_count": null,
      "outputs": []
    },
    {
      "cell_type": "markdown",
      "metadata": {
        "id": "40L9XCHQ2Dnc"
      },
      "source": [
        "Теперь заменим значения на числа по следующему правилу: 'for' - 0, 'against' - 1, 'неучастие' - 2. Так у нас получится взвешенный граф, где ребро между партией и голосованием будет соответствовать голосу за/против/воздержался"
      ]
    },
    {
      "cell_type": "code",
      "metadata": {
        "id": "3sKVi95l2UV5"
      },
      "source": [
        "def format_matrix_to_numbers(matrix_unformatted):\n",
        "  for i in range(0, len(matrix_unformatted)):\n",
        "    for j in range(0, len(matrix_unformatted[0])):\n",
        "      if (matrix_unformatted[i][j] == 'неучастие'):\n",
        "        matrix_unformatted[i][j] = 3\n",
        "      if (matrix_unformatted[i][j] == 'воздержались'):\n",
        "        matrix_unformatted[i][j] = 2\n",
        "      if (matrix_unformatted[i][j] == 'for'):\n",
        "        matrix_unformatted[i][j] = 0\n",
        "      if (matrix_unformatted[i][j] == 'against'):\n",
        "        matrix_unformatted[i][j] = 1\n",
        "\n",
        "\n",
        "format_matrix_to_numbers(matrix)\n",
        "print(matrix)"
      ],
      "execution_count": null,
      "outputs": []
    },
    {
      "cell_type": "markdown",
      "metadata": {
        "id": "DVfHEisS73N-"
      },
      "source": [
        "Теперь мы будем брать по очереди ребра со значением 0, 1, 2 и делать следующее:\n",
        "\n",
        "Оставляем ребра одного типа. Теперь проходимся по всем голосованиям, и добавляем в массив списки партий, проголосовавших одинаково в каждом голосовании. Так components состоит из списков, каждый список - это партиии, которые повели себя одинаково на каком-либо одинаково"
      ]
    },
    {
      "cell_type": "code",
      "metadata": {
        "id": "7Krr4wRUA9kJ"
      },
      "source": [
        "def get_components_list(matrix1, maxvalue):\n",
        "\n",
        "  components = []\n",
        "\n",
        "  for type_edge in range(0, maxvalue+1):\n",
        "    for i in range(0, len(matrix1)):\n",
        "      list_parties = []\n",
        "      for j in range(0, len(matrix1[0])):\n",
        "        if (matrix1[i][j]==type_edge):\n",
        "          list_parties.append(j)\n",
        "      components.append(list_parties)\n",
        "  return components\n",
        "\n",
        "components_all = get_components_list(matrix, 3)\n",
        "print(components_all)"
      ],
      "execution_count": null,
      "outputs": []
    },
    {
      "cell_type": "markdown",
      "metadata": {
        "id": "A5q9ofMYHbBD"
      },
      "source": [
        "Теперь нам нужно построить итоговый граф, с весами, в котором ребро весом n между вершинами v и u показывает, что n раз партии u и v повели себя одинаково на голосовании"
      ]
    },
    {
      "cell_type": "code",
      "metadata": {
        "id": "77R-kM5-Htsi"
      },
      "source": [
        "def make_graph_matrix(components):\n",
        "\n",
        "  graph_matrix = [[0] * len(parties) for _ in range(len(parties))]\n",
        "\n",
        "  for i in range(0, len(components)):\n",
        "    for first_elem in components[i]:\n",
        "      for second_elem in components[i]:\n",
        "        if (first_elem!=second_elem):\n",
        "          graph_matrix[first_elem][second_elem]+=1\n",
        "  return graph_matrix\n",
        "\n",
        "graph_matrix_all = make_graph_matrix(components_all)"
      ],
      "execution_count": null,
      "outputs": []
    },
    {
      "cell_type": "markdown",
      "metadata": {
        "id": "hITD_Y0mJ-m7"
      },
      "source": [
        "Теперь построим таблицу этих весов для наглядности, число в ячейке показывает, сколько раз эти партии одинаково вели себя на голосовании"
      ]
    },
    {
      "cell_type": "code",
      "metadata": {
        "id": "hlBoEvCAKHVa"
      },
      "source": [
        "print(pd.DataFrame(graph_matrix_all, parties, parties))"
      ],
      "execution_count": null,
      "outputs": []
    },
    {
      "cell_type": "markdown",
      "metadata": {
        "id": "VTDq4P27NIwg"
      },
      "source": [
        "Теперь нам нужно построить взвешенный граф из матрицы смежности, показать веса."
      ]
    },
    {
      "cell_type": "code",
      "metadata": {
        "id": "JN2m4HUNNPFy"
      },
      "source": [
        "import matplotlib.pyplot as plt\n",
        "import networkx as nx\n",
        "from matplotlib.pyplot import figure\n",
        "\n",
        "\n",
        "def scalegraph(sf):  # scale graph by scalefactor = sf, keeping it centred\n",
        "    plt.axis('off')\n",
        "    axis = plt.gca()\n",
        "    xlim=list(axis.get_xlim())\n",
        "    ylim=list(axis.get_ylim())\n",
        "    xav=sum(xlim)/2\n",
        "    dx=(xlim[1]-xlim[0])/2\n",
        "    yav=sum(ylim)/2\n",
        "    dy=(ylim[1]-ylim[0])/2\n",
        "    axis.set_xlim([xav-sf*dx,xav+sf*dx])\n",
        "    axis.set_ylim([yav-sf*dy,yav+sf*dy])\n",
        "\n",
        "def plot_heatmap(matrix_heat, labels):\n",
        "  fig, ax = plt.subplots()\n",
        "  sns.heatmap(matrix_heat, annot=True, cmap='coolwarm')\n",
        "  ax.set_xticks(np.arange(len(labels)))\n",
        "  ax.set_yticks(np.arange(len(labels)))\n",
        "  ax.set_xticklabels(labels)\n",
        "  ax.set_yticklabels(labels)\n",
        "  plt.setp(ax.get_xticklabels(), rotation=45, ha=\"right\",\n",
        "         rotation_mode=\"anchor\")\n",
        "  plt.setp(ax.get_yticklabels(), rotation=0, ha=\"right\",\n",
        "         rotation_mode=\"anchor\")\n",
        "  plt.show()\n",
        "\n",
        "def draw_graph_matrix_adjency(matrix_adjency, votes1):\n",
        "  figure(figsize=(80, 60), dpi=80)\n",
        "  G = nx.Graph()\n",
        "  for i in range(0, len(matrix_adjency)):\n",
        "    for j in range(0, len(matrix_adjency[0])):\n",
        "      if (matrix_adjency[i][j]!=0):\n",
        "        G.add_edge(parties[i], parties[j], weight=matrix_adjency[i][j])\n",
        "  elarge = [(u, v) for (u, v, d) in G.edges(data=True) if d[\"weight\"] >= len(votes1)/2]\n",
        "  esmall = [(u, v) for (u, v, d) in G.edges(data=True) if d[\"weight\"] < len(votes1)/2]\n",
        "\n",
        "  pos = nx.circular_layout(G)  # positions for all nodes\n",
        "\n",
        "  # nodes\n",
        "  nx.draw_networkx_nodes(G, pos, node_size=15000, node_color='lightblue')\n",
        "\n",
        "  # edges\n",
        "  nx.draw_networkx_edges(G, pos, edgelist=elarge, width=6)\n",
        "  nx.draw_networkx_edges(\n",
        "      G, pos, edgelist=esmall, width=6, alpha=0.5, edge_color=\"b\", style=\"dashed\"\n",
        "  )\n",
        "\n",
        "  # labels\n",
        "  nx.draw_networkx_labels(G, pos, font_size=35, font_family=\"sans-serif\")\n",
        "  plt.axis(\"off\")\n",
        "  scalegraph(1)\n",
        "  plt.show()\n",
        "\n",
        "def make_graph(matrix_adjency):\n",
        "  G = nx.Graph()\n",
        "  for i in range(0, len(matrix_adjency)):\n",
        "    for j in range(0, len(matrix_adjency[0])):\n",
        "      if (matrix_adjency[i][j]!=0):\n",
        "        G.add_edge(parties[i], parties[j], weight=matrix_adjency[i][j])\n",
        "  return G\n",
        "  \n",
        "figure(figsize=(80, 60), dpi=80)\n",
        "draw_graph_matrix_adjency(graph_matrix_all, votes)"
      ],
      "execution_count": null,
      "outputs": []
    },
    {
      "cell_type": "markdown",
      "metadata": {
        "id": "hWjSJSU2lsup"
      },
      "source": [
        "Теперь сделаем итоговую функцию, которая будет загружать данные по ссылке в файл и их сразу обрабатывать, выводить все нужные данные по файлу: матрицы смежности, графы"
      ]
    },
    {
      "cell_type": "code",
      "metadata": {
        "id": "dPPGWtxYl8oA"
      },
      "source": [
        "import seaborn as sns # for data visualization\n",
        "import matplotlib.pyplot as plt\n",
        "import numpy as np\n",
        "\n",
        "def data_parse_plotting(url, name, table_values=None):\n",
        "  load_file(name, url)\n",
        "  matrix, votes, parties = parse_excel(name)\n",
        "  results = ['за', 'против', 'неучастие']\n",
        "  format_matrix_to_numbers(matrix)\n",
        "  components_all = get_components_list(matrix, 3)\n",
        "  graph_matrix_all = make_graph_matrix(components_all)\n",
        "  print('---Построим матрицу смежности и график с учетом, когда партии не принимали участия в голосовании')\n",
        "  \n",
        "  plt.figure(figsize=(20, 10))\n",
        "  plot_heatmap(graph_matrix_all, parties)\n",
        "\n",
        "  figure(figsize=(80, 60), dpi=80)\n",
        "  draw_graph_matrix_adjency(graph_matrix_all, votes)\n",
        "  \n",
        "  print('---Построим матрицу смежности и график без учета, когда партии не принимали участия в голосовании')\n",
        "  components1 = get_components_list(matrix, 2)\n",
        "  graph_matrix_active = make_graph_matrix(components1)\n",
        "  \n",
        "  plt.figure(figsize=(20, 10))\n",
        "  plot_heatmap(graph_matrix_active, parties)\n",
        "  \n",
        "  figure(figsize=(80, 60), dpi=80)\n",
        "  draw_graph_matrix_adjency(graph_matrix_active, votes)\n",
        "  if (table_values != None):\n",
        "    values_list = []\n",
        "    G = make_graph(graph_matrix_all)\n",
        "    degree = nx.degree_centrality(G)\n",
        "    betweenness = nx.betweenness_centrality(G)\n",
        "    closeness = nx.closeness_centrality(G)\n",
        "    values_list.append(degree)\n",
        "    values_list.append(betweenness)\n",
        "    values_list.append(closeness)\n",
        "    values_list.append(nx.average_clustering(G))\n",
        "    values_list.append(nx.density(G))\n",
        "    table_values.append(values_list)\n",
        "\n",
        "values_matrix = []\n",
        "data_parse_plotting('https://disk.yandex.ru/i/uhcytFEl7xHjww', 'first.xlsx', table_values= values_matrix)"
      ],
      "execution_count": null,
      "outputs": []
    },
    {
      "cell_type": "markdown",
      "metadata": {
        "id": "biDcVAqPgwxz"
      },
      "source": [
        "Теперь мы также должны обработать второй файл с голосованием по сельскому хозяйству:"
      ]
    },
    {
      "cell_type": "code",
      "metadata": {
        "id": "dLFifw9CiV-k"
      },
      "source": [
        "data_parse_plotting('https://disk.yandex.ru/i/MDH7Hep2Y_CdlA', 'second.xlsx', values_matrix)"
      ],
      "execution_count": null,
      "outputs": []
    },
    {
      "cell_type": "markdown",
      "metadata": {
        "id": "fG6MBMWGip0I"
      },
      "source": [
        "Также обработаем голосования по экологии:"
      ]
    },
    {
      "cell_type": "code",
      "metadata": {
        "id": "at9q1VOdipOC"
      },
      "source": [
        "data_parse_plotting('https://disk.yandex.ru/d/PL3IV-A8HrVDzA', 'third.xlsx', values_matrix)"
      ],
      "execution_count": null,
      "outputs": []
    },
    {
      "cell_type": "code",
      "metadata": {
        "id": "YNLQRcE58I8x"
      },
      "source": [
        ""
      ],
      "execution_count": null,
      "outputs": []
    }
  ]
}